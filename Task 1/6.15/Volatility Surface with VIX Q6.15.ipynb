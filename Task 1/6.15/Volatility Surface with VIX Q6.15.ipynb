{
 "cells": [
  {
   "cell_type": "code",
   "execution_count": 2,
   "metadata": {},
   "outputs": [],
   "source": [
    "#This program takes about 60 minutes to run\n",
    "#Loading Package\n",
    "import os\n",
    "\n",
    "import time\n",
    "import numpy as np\n",
    "import scipy as sci\n",
    "import scipy.io as sio\n",
    "import pandas as pd\n",
    "\n",
    "from sklearn.model_selection import train_test_split\n",
    "from sklearn.linear_model import LinearRegression\n",
    "from sklearn.metrics import mean_squared_error\n",
    "from sklearn.preprocessing import StandardScaler\n",
    "\n",
    "\n",
    "import tensorflow as tf\n",
    "from tensorflow.keras.layers import Dense\n",
    "from tensorflow import keras\n",
    "\n",
    "\n",
    "from numpy.random import seed\n",
    "seed(100)\n",
    "\n",
    "\n",
    "import matplotlib.pyplot as plt\n",
    "from IPython.display import clear_output\n"
   ]
  },
  {
   "cell_type": "code",
   "execution_count": 3,
   "metadata": {},
   "outputs": [
    {
     "name": "stdout",
     "output_type": "stream",
     "text": [
      "Size of the dataset (row, col):  (125700, 5)\n"
     ]
    },
    {
     "data": {
      "text/html": [
       "<div>\n",
       "<style scoped>\n",
       "    .dataframe tbody tr th:only-of-type {\n",
       "        vertical-align: middle;\n",
       "    }\n",
       "\n",
       "    .dataframe tbody tr th {\n",
       "        vertical-align: top;\n",
       "    }\n",
       "\n",
       "    .dataframe thead th {\n",
       "        text-align: right;\n",
       "    }\n",
       "</style>\n",
       "<table border=\"1\" class=\"dataframe\">\n",
       "  <thead>\n",
       "    <tr style=\"text-align: right;\">\n",
       "      <th></th>\n",
       "      <th>Date</th>\n",
       "      <th>SPX Return</th>\n",
       "      <th>Time to Maturity in Year</th>\n",
       "      <th>Delta</th>\n",
       "      <th>Implied Volatility Change</th>\n",
       "    </tr>\n",
       "  </thead>\n",
       "  <tbody>\n",
       "    <tr>\n",
       "      <th>0</th>\n",
       "      <td>2014-06-30</td>\n",
       "      <td>0.006678</td>\n",
       "      <td>0.184</td>\n",
       "      <td>0.745927</td>\n",
       "      <td>0.008462</td>\n",
       "    </tr>\n",
       "    <tr>\n",
       "      <th>1</th>\n",
       "      <td>2014-06-30</td>\n",
       "      <td>0.006678</td>\n",
       "      <td>2.252</td>\n",
       "      <td>0.286911</td>\n",
       "      <td>0.002024</td>\n",
       "    </tr>\n",
       "  </tbody>\n",
       "</table>\n",
       "</div>"
      ],
      "text/plain": [
       "        Date  SPX Return  Time to Maturity in Year     Delta  \\\n",
       "0 2014-06-30    0.006678                     0.184  0.745927   \n",
       "1 2014-06-30    0.006678                     2.252  0.286911   \n",
       "\n",
       "   Implied Volatility Change  \n",
       "0                   0.008462  \n",
       "1                   0.002024  "
      ]
     },
     "execution_count": 3,
     "metadata": {},
     "output_type": "execute_result"
    }
   ],
   "source": [
    "# load raw data\n",
    "DATA_FOLDER = './Data'\n",
    "raw = pd.read_csv(os.path.join('Implied_Volatility_Data_vFinal.csv'), parse_dates= [\"Date\"])\n",
    "# check the raw data\n",
    "print(\"Size of the dataset (row, col): \", raw.shape)\n",
    "raw.head(2)"
   ]
  },
  {
   "cell_type": "code",
   "execution_count": 4,
   "metadata": {},
   "outputs": [
    {
     "data": {
      "text/html": [
       "<div>\n",
       "<style scoped>\n",
       "    .dataframe tbody tr th:only-of-type {\n",
       "        vertical-align: middle;\n",
       "    }\n",
       "\n",
       "    .dataframe tbody tr th {\n",
       "        vertical-align: top;\n",
       "    }\n",
       "\n",
       "    .dataframe thead th {\n",
       "        text-align: right;\n",
       "    }\n",
       "</style>\n",
       "<table border=\"1\" class=\"dataframe\">\n",
       "  <thead>\n",
       "    <tr style=\"text-align: right;\">\n",
       "      <th></th>\n",
       "      <th>Date</th>\n",
       "      <th>SPX Return</th>\n",
       "      <th>Time to Maturity in Year</th>\n",
       "      <th>Delta</th>\n",
       "      <th>Implied Volatility Change</th>\n",
       "    </tr>\n",
       "  </thead>\n",
       "  <tbody>\n",
       "    <tr>\n",
       "      <th>125698</th>\n",
       "      <td>2019-06-26</td>\n",
       "      <td>0.003823</td>\n",
       "      <td>0.340</td>\n",
       "      <td>0.917499</td>\n",
       "      <td>0.006153</td>\n",
       "    </tr>\n",
       "    <tr>\n",
       "      <th>125699</th>\n",
       "      <td>2019-06-26</td>\n",
       "      <td>0.003823</td>\n",
       "      <td>1.476</td>\n",
       "      <td>0.721438</td>\n",
       "      <td>-0.000285</td>\n",
       "    </tr>\n",
       "  </tbody>\n",
       "</table>\n",
       "</div>"
      ],
      "text/plain": [
       "             Date  SPX Return  Time to Maturity in Year     Delta  \\\n",
       "125698 2019-06-26    0.003823                     0.340  0.917499   \n",
       "125699 2019-06-26    0.003823                     1.476  0.721438   \n",
       "\n",
       "        Implied Volatility Change  \n",
       "125698                   0.006153  \n",
       "125699                  -0.000285  "
      ]
     },
     "execution_count": 4,
     "metadata": {},
     "output_type": "execute_result"
    }
   ],
   "source": [
    "raw.tail(2)"
   ]
  },
  {
   "attachments": {},
   "cell_type": "markdown",
   "metadata": {},
   "source": [
    "# Q6.15"
   ]
  },
  {
   "attachments": {},
   "cell_type": "markdown",
   "metadata": {},
   "source": [
    "## Adding the VIX index"
   ]
  },
  {
   "cell_type": "code",
   "execution_count": 5,
   "metadata": {},
   "outputs": [
    {
     "data": {
      "text/html": [
       "<div>\n",
       "<style scoped>\n",
       "    .dataframe tbody tr th:only-of-type {\n",
       "        vertical-align: middle;\n",
       "    }\n",
       "\n",
       "    .dataframe tbody tr th {\n",
       "        vertical-align: top;\n",
       "    }\n",
       "\n",
       "    .dataframe thead th {\n",
       "        text-align: right;\n",
       "    }\n",
       "</style>\n",
       "<table border=\"1\" class=\"dataframe\">\n",
       "  <thead>\n",
       "    <tr style=\"text-align: right;\">\n",
       "      <th></th>\n",
       "      <th>Date</th>\n",
       "      <th>Open</th>\n",
       "      <th>High</th>\n",
       "      <th>Low</th>\n",
       "      <th>Close</th>\n",
       "      <th>Adj Close</th>\n",
       "      <th>Volume</th>\n",
       "    </tr>\n",
       "  </thead>\n",
       "  <tbody>\n",
       "    <tr>\n",
       "      <th>0</th>\n",
       "      <td>2014-06-30</td>\n",
       "      <td>11.75</td>\n",
       "      <td>11.81</td>\n",
       "      <td>11.30</td>\n",
       "      <td>11.57</td>\n",
       "      <td>11.57</td>\n",
       "      <td>0</td>\n",
       "    </tr>\n",
       "    <tr>\n",
       "      <th>1</th>\n",
       "      <td>2014-07-01</td>\n",
       "      <td>11.28</td>\n",
       "      <td>11.42</td>\n",
       "      <td>10.92</td>\n",
       "      <td>11.15</td>\n",
       "      <td>11.15</td>\n",
       "      <td>0</td>\n",
       "    </tr>\n",
       "  </tbody>\n",
       "</table>\n",
       "</div>"
      ],
      "text/plain": [
       "        Date   Open   High    Low  Close  Adj Close  Volume\n",
       "0 2014-06-30  11.75  11.81  11.30  11.57      11.57       0\n",
       "1 2014-07-01  11.28  11.42  10.92  11.15      11.15       0"
      ]
     },
     "execution_count": 5,
     "metadata": {},
     "output_type": "execute_result"
    }
   ],
   "source": [
    "vix = pd.read_csv(os.path.join('VIX.csv'), parse_dates= [\"Date\"], infer_datetime_format=True)\n",
    "vix.head(2)"
   ]
  },
  {
   "cell_type": "code",
   "execution_count": 6,
   "metadata": {},
   "outputs": [],
   "source": [
    "raw_with_vix = raw.merge(vix[\"Adj Close\"], how=\"left\", left_on= raw[\"Date\"], right_on = vix[\"Date\"] )\n",
    "raw_with_vix.rename(columns={\"Adj Close\": \"VIX Close\"}, inplace = True)\n",
    "raw_with_vix = raw_with_vix.iloc[:,1:]"
   ]
  },
  {
   "cell_type": "code",
   "execution_count": 7,
   "metadata": {},
   "outputs": [
    {
     "data": {
      "text/html": [
       "<div>\n",
       "<style scoped>\n",
       "    .dataframe tbody tr th:only-of-type {\n",
       "        vertical-align: middle;\n",
       "    }\n",
       "\n",
       "    .dataframe tbody tr th {\n",
       "        vertical-align: top;\n",
       "    }\n",
       "\n",
       "    .dataframe thead th {\n",
       "        text-align: right;\n",
       "    }\n",
       "</style>\n",
       "<table border=\"1\" class=\"dataframe\">\n",
       "  <thead>\n",
       "    <tr style=\"text-align: right;\">\n",
       "      <th></th>\n",
       "      <th>Date</th>\n",
       "      <th>SPX Return</th>\n",
       "      <th>Time to Maturity in Year</th>\n",
       "      <th>Delta</th>\n",
       "      <th>Implied Volatility Change</th>\n",
       "      <th>VIX Close</th>\n",
       "    </tr>\n",
       "  </thead>\n",
       "  <tbody>\n",
       "    <tr>\n",
       "      <th>0</th>\n",
       "      <td>2014-06-30</td>\n",
       "      <td>0.006678</td>\n",
       "      <td>0.184</td>\n",
       "      <td>0.745927</td>\n",
       "      <td>0.008462</td>\n",
       "      <td>11.57</td>\n",
       "    </tr>\n",
       "    <tr>\n",
       "      <th>1</th>\n",
       "      <td>2014-06-30</td>\n",
       "      <td>0.006678</td>\n",
       "      <td>2.252</td>\n",
       "      <td>0.286911</td>\n",
       "      <td>0.002024</td>\n",
       "      <td>11.57</td>\n",
       "    </tr>\n",
       "    <tr>\n",
       "      <th>2</th>\n",
       "      <td>2014-06-30</td>\n",
       "      <td>0.006678</td>\n",
       "      <td>0.124</td>\n",
       "      <td>0.902941</td>\n",
       "      <td>0.019707</td>\n",
       "      <td>11.57</td>\n",
       "    </tr>\n",
       "    <tr>\n",
       "      <th>3</th>\n",
       "      <td>2014-06-30</td>\n",
       "      <td>0.006678</td>\n",
       "      <td>2.144</td>\n",
       "      <td>0.910926</td>\n",
       "      <td>0.006424</td>\n",
       "      <td>11.57</td>\n",
       "    </tr>\n",
       "    <tr>\n",
       "      <th>4</th>\n",
       "      <td>2014-06-30</td>\n",
       "      <td>0.006678</td>\n",
       "      <td>1.412</td>\n",
       "      <td>0.885760</td>\n",
       "      <td>0.005673</td>\n",
       "      <td>11.57</td>\n",
       "    </tr>\n",
       "  </tbody>\n",
       "</table>\n",
       "</div>"
      ],
      "text/plain": [
       "        Date  SPX Return  Time to Maturity in Year     Delta  \\\n",
       "0 2014-06-30    0.006678                     0.184  0.745927   \n",
       "1 2014-06-30    0.006678                     2.252  0.286911   \n",
       "2 2014-06-30    0.006678                     0.124  0.902941   \n",
       "3 2014-06-30    0.006678                     2.144  0.910926   \n",
       "4 2014-06-30    0.006678                     1.412  0.885760   \n",
       "\n",
       "   Implied Volatility Change  VIX Close  \n",
       "0                   0.008462      11.57  \n",
       "1                   0.002024      11.57  \n",
       "2                   0.019707      11.57  \n",
       "3                   0.006424      11.57  \n",
       "4                   0.005673      11.57  "
      ]
     },
     "execution_count": 7,
     "metadata": {},
     "output_type": "execute_result"
    }
   ],
   "source": [
    "raw_with_vix.head(5)"
   ]
  },
  {
   "cell_type": "markdown",
   "metadata": {},
   "source": [
    "## Construct the 3 variables for Regression Approach"
   ]
  },
  {
   "cell_type": "code",
   "execution_count": 8,
   "metadata": {},
   "outputs": [],
   "source": [
    "## Expected change in implied volatility: R (SIMPLE ML MODEL p150)\n",
    "\n",
    "# For simplicity, assigned variable raw with vix to raw\n",
    "raw = raw_with_vix\n",
    "\n",
    "# construct the 3 variables for regression\n",
    "raw['x1'] = raw['SPX Return'] / np.sqrt(raw['Time to Maturity in Year'])\n",
    "raw['x2'] = raw['SPX Return'] / np.sqrt(raw['Time to Maturity in Year']) * raw['Delta']\n",
    "raw['x3'] = raw['x2'] * raw['Delta']\n",
    "\n",
    "# Put the X and Y variable in data frame for regression\n",
    "y = raw['Implied Volatility Change']\n",
    "X = raw[['x1', 'x2', 'x3','SPX Return','Time to Maturity in Year','Delta']]\n",
    "X_V= raw[['x1', 'x2', 'x3','SPX Return','Time to Maturity in Year','Delta','VIX Close']]"
   ]
  },
  {
   "cell_type": "code",
   "execution_count": 9,
   "metadata": {},
   "outputs": [],
   "source": [
    "# BASE========================================================================================\n",
    "\n",
    "# Divide data into training set and test set(note that random seed is set)\n",
    "X_train,X_test,y_train,y_test=train_test_split(X,y,test_size=0.2,random_state=100)\n",
    "\n",
    "# Divide training set into training and validation set\n",
    "X_train,X_val,y_train,y_val=train_test_split(X_train,y_train,test_size=0.25,random_state=100)\n",
    "\n",
    "\n",
    "# VIX=========================================================================================\n",
    "# To benchmark I added v as a suffix to compare the models\n",
    "\n",
    "# Divide data into training set and test set(note that random seed is set)\n",
    "Xv_train,Xv_test,yv_train,yv_test=train_test_split(X_V,y,test_size=0.2,random_state=100)\n",
    "\n",
    "# Divide training set into training and validation set\n",
    "Xv_train,Xv_val,yv_train,yv_val=train_test_split(Xv_train,yv_train,test_size=0.25,random_state=100)"
   ]
  },
  {
   "cell_type": "code",
   "execution_count": 10,
   "metadata": {},
   "outputs": [
    {
     "name": "stdout",
     "output_type": "stream",
     "text": [
      "Test loss without VIX (MSE): 7.423167462421238e-05\n",
      "Test loss with VIX (MSE)   : 7.423167462421238e-05\n"
     ]
    }
   ],
   "source": [
    "# BASE========================================================================================\n",
    "\n",
    "# Scale features based on Z-Score\n",
    "scaler = StandardScaler()\n",
    "scaler.fit(X_train)\n",
    "\n",
    "X_scaled_train = scaler.transform(X_train)\n",
    "X_scaled_vals = scaler.transform(X_val)\n",
    "X_scaled_test = scaler.transform(X_test)\n",
    "y_train = np.asarray(y_train)\n",
    "y_val = np.asarray(y_val)\n",
    "y_test = np.asarray(y_test)\n",
    "\n",
    "# Run the regression on the training data\n",
    "lr = LinearRegression(fit_intercept=False)\n",
    "lr.fit(X_scaled_train[:,:3], y_train)\n",
    "\n",
    "# Get the prediction\n",
    "y_pred = lr.predict(X_scaled_test[:,:3])\n",
    "\n",
    "# Calculate Mean Squared Error\n",
    "mse = mean_squared_error(y_test, y_pred)\n",
    "\n",
    "print('Test loss without VIX (MSE):', mse)\n",
    "\n",
    "# VIX ========================================================================================\n",
    "\n",
    "# Scale features based on Z-Score\n",
    "scaler_v = StandardScaler()\n",
    "scaler_v.fit(Xv_train)\n",
    "\n",
    "Xv_scaled_train = scaler_v.transform(Xv_train)\n",
    "Xv_scaled_vals = scaler_v.transform(Xv_val)\n",
    "Xv_scaled_test = scaler_v.transform(Xv_test)\n",
    "yv_train = np.asarray(yv_train)\n",
    "yv_val = np.asarray(yv_val)\n",
    "yv_test = np.asarray(yv_test)\n",
    "\n",
    "# Run the regression on the training data\n",
    "lr_v = LinearRegression(fit_intercept=False)\n",
    "lr_v.fit(Xv_scaled_train[:,:3], yv_train)\n",
    "\n",
    "# Get the prediction\n",
    "yv_pred = lr_v.predict(Xv_scaled_test[:,:3])\n",
    "\n",
    "# Calculate Mean Squared Error\n",
    "mse_v = mean_squared_error(yv_test, yv_pred)\n",
    "\n",
    "print('Test loss with VIX (MSE)   :', mse_v)"
   ]
  },
  {
   "cell_type": "markdown",
   "metadata": {},
   "source": [
    "## ML Approach"
   ]
  },
  {
   "cell_type": "code",
   "execution_count": 16,
   "metadata": {},
   "outputs": [],
   "source": [
    "# Create ML Model BASE ============================================================================================================\n",
    "# Sequential function allows you to define your Neural Network in sequential order\n",
    "# Within Sequential, use Dense function to define number of nodes, activation function and other related parameters \n",
    "# For more information regrading to activation functoin, please refer to https://keras.io/activations/\n",
    "model = keras.models.Sequential([Dense(20,activation = \"sigmoid\",input_shape = (3,)),\n",
    "                                 Dense(20,activation = \"sigmoid\"),Dense(20,activation = \"sigmoid\"),\n",
    "                                Dense(1)])\n",
    "\n",
    "# Complie function allows you to choose your measure of loss and optimzer\n",
    "# For other optimizer, please refer to https://keras.io/optimizers/\n",
    "model.compile(loss = \"mse\",optimizer = \"Adam\")\n",
    "\n",
    "# Checkpoint function is used here to periodically save a copy of the model. \n",
    "# Currently it is set to save the best performing model\n",
    "checkpoint_cb = keras.callbacks.ModelCheckpoint(\"implied_vol_model_vFinal.h5\",save_best_only = True)\n",
    "\n",
    "# Early stopping allows you to stop your training early if no improvment is shown after cerain period\n",
    "# Currently it is set at if no improvement occured in 1000 epochs, at the stop the model will also revert back to the best weight\n",
    "early_stopping_cb = keras.callbacks.EarlyStopping(patience = 1000,restore_best_weights = True)\n",
    "# Remark: checkpoint could be redundant here as early stopping function can also help restoring to the best weight\n",
    "# We put both here just to illustrate different ways to keep the best model\n",
    "\n",
    "\n",
    "# Create ML Model  VIX ============================================================================================================\n",
    "# Sequential function allows you to define your Neural Network in sequential order\n",
    "# Within Sequential, use Dense function to define number of nodes, activation function and other related parameters \n",
    "# For more information regrading to activation functoin, please refer to https://keras.io/activations/\n",
    "model_v = keras.models.Sequential([Dense(20,activation = \"sigmoid\",input_shape = (3,)),\n",
    "                                 Dense(20,activation = \"sigmoid\"),Dense(20,activation = \"sigmoid\"),\n",
    "                                Dense(1)])\n",
    "\n",
    "# Complie function allows you to choose your measure of loss and optimzer\n",
    "# For other optimizer, please refer to https://keras.io/optimizers/\n",
    "model_v.compile(loss = \"mse\",optimizer = \"Adam\")\n",
    "\n",
    "# Checkpoint function is used here to periodically save a copy of the model. \n",
    "# Currently it is set to save the best performing model\n",
    "checkpoint_cb = keras.callbacks.ModelCheckpoint(\"implied_vol_model_nonvix_Final.h5\",save_best_only = True)\n",
    "checkpoint_cbv = keras.callbacks.ModelCheckpoint(\"implied_vol_model_vix_Final.h5\",save_best_only = True)"
   ]
  },
  {
   "cell_type": "markdown",
   "metadata": {},
   "source": [
    "## NN on 2 seperate models"
   ]
  },
  {
   "cell_type": "code",
   "execution_count": 17,
   "metadata": {},
   "outputs": [],
   "source": [
    "# train your model\n",
    "# The fit function allows you to train a NN model. Here we have training data, number of epochs,batch size, validation data, \n",
    "# and callbacks as input\n",
    "# Callback is an optional parameters that allow you to enable tricks for training such as early stopping and checkpoint\n",
    "\n",
    "# Remarks: Altough we put 50000 epochs here, the model will stop its training once our early stopping criterion is triggered\n",
    "\n",
    "history=model.fit(X_scaled_train[:,3:6],y_train,epochs=100, batch_size = 128, verbose = 0, validation_data=(X_scaled_vals[:,3:6],y_val),\n",
    "                 callbacks=[checkpoint_cb, early_stopping_cb])\n",
    "\n",
    "history_v=model_v.fit(Xv_scaled_train[:,3:6],yv_train,epochs=100, batch_size = 128, verbose = 0, validation_data=(Xv_scaled_vals[:,3:6],yv_val),\n",
    "                 callbacks=[checkpoint_cbv, early_stopping_cb])"
   ]
  },
  {
   "cell_type": "code",
   "execution_count": 18,
   "metadata": {},
   "outputs": [
    {
     "name": "stdout",
     "output_type": "stream",
     "text": [
      "Test Loss(MSE): 7.034560258034617e-05\n",
      "Test Loss vix (MSE): 7.034560258034617e-05\n"
     ]
    }
   ],
   "source": [
    "# Load the best model you saved and calcuate MSE for testing set\n",
    "\n",
    "model = keras.models.load_model(\"implied_vol_model_nonvix_Final.h5\")\n",
    "mse_test = model.evaluate(X_scaled_test[:,3:6],y_test,verbose=0)\n",
    "\n",
    "print('Test Loss(MSE):', mse_test)\n",
    "\n",
    "# Load the best model you saved and calcuate MSE for testing set\n",
    "\n",
    "model_v = keras.models.load_model(\"implied_vol_model_vix_Final.h5\")\n",
    "mse_test_v = model.evaluate(Xv_scaled_test[:,3:6],yv_test,verbose=0)\n",
    "\n",
    "print('Test Loss vix (MSE):', mse_test_v)"
   ]
  },
  {
   "cell_type": "code",
   "execution_count": 20,
   "metadata": {},
   "outputs": [
    {
     "name": "stdout",
     "output_type": "stream",
     "text": [
      "Gain Ratio: 0.05235059108579887\n",
      "Gain Ratio v: 0.05235059108579887\n"
     ]
    }
   ],
   "source": [
    "# Calculate Gain Ratio\n",
    "\n",
    "gain = 1 - mse_test/mse \n",
    "\n",
    "print('Gain Ratio:', gain)\n",
    "\n",
    "\n",
    "# Calculate Gain Ratio\n",
    "\n",
    "gain_v = 1 - mse_test_v/mse_v \n",
    "\n",
    "print('Gain Ratio v:', gain_v)"
   ]
  },
  {
   "cell_type": "markdown",
   "metadata": {},
   "source": [
    "## Review your results and export training history\n"
   ]
  },
  {
   "cell_type": "code",
   "execution_count": 21,
   "metadata": {},
   "outputs": [
    {
     "data": {
      "image/png": "[encoded data removed]",
      "text/plain": [
       "<Figure size 576x360 with 1 Axes>"
      ]
     },
     "metadata": {
      "needs_background": "light"
     },
     "output_type": "display_data"
    }
   ],
   "source": [
    "# Plot training history\n",
    "\n",
    "pd.DataFrame(history.history).plot(figsize=(8,5))\n",
    "plt.grid(True)\n",
    "plt.gca().set_ylim(0.00007,0.00015)\n",
    "plt.show()\n",
    "\n",
    "#Export your training history for MSE\n",
    "output = pd.DataFrame(history.history)\n",
    "# output.to_csv(\"mse_overtime.csv\")"
   ]
  }
 ],
 "metadata": {
  "kernelspec": {
   "display_name": "Python 3.9.9 64-bit",
   "language": "python",
   "name": "python3"
  },
  "language_info": {
   "codemirror_mode": {
    "name": "ipython",
    "version": 3
   },
   "file_extension": ".py",
   "mimetype": "text/x-python",
   "name": "python",
   "nbconvert_exporter": "python",
   "pygments_lexer": "ipython3",
   "version": "3.9.9"
  },
  "vscode": {
   "interpreter": {
    "hash": "1bb55fd824d87862b8406e354adf2e2f3ce9f4681c25aaf06413f53769893bbf"
   }
  }
 },
 "nbformat": 4,
 "nbformat_minor": 2
}
