{
 "cells": [
  {
   "cell_type": "code",
   "execution_count": 55,
   "metadata": {},
   "outputs": [],
   "source": [
    "# import packages\n",
    "import warnings\n",
    "warnings.filterwarnings('ignore')\n",
    "\n",
    "import pandas as pd\n",
    "import numpy as np\n",
    "\n",
    "import seaborn as sns\n",
    "import matplotlib.pyplot as plt\n",
    "\n",
    "from sklearn.linear_model import LogisticRegression\n",
    "\n",
    "from sklearn.metrics import accuracy_score, recall_score, precision_score, f1_score\n",
    "from sklearn.metrics import confusion_matrix, classification_report, roc_curve, roc_auc_score\n",
    "from sklearn.metrics import precision_recall_curve, auc, average_precision_score\n",
    "\n",
    "\n",
    "# NN packages\n",
    "import os\n",
    "import time\n",
    "\n",
    "import scipy as sci\n",
    "import scipy.io as sio\n",
    "\n",
    "from sklearn.model_selection import train_test_split\n",
    "from sklearn.linear_model import LinearRegression\n",
    "from sklearn.metrics import mean_squared_error\n",
    "from sklearn.preprocessing import StandardScaler\n",
    "\n",
    "\n",
    "import tensorflow as tf\n",
    "from tensorflow.keras.layers import Dense\n",
    "from tensorflow import keras\n",
    "\n",
    "\n",
    "from numpy.random import seed\n",
    "seed(100)\n",
    "\n",
    "from IPython.display import clear_output"
   ]
  },
  {
   "cell_type": "code",
   "execution_count": 56,
   "metadata": {},
   "outputs": [
    {
     "name": "stdout",
     "output_type": "stream",
     "text": [
      "['id', 'member_id', 'loan_amnt', 'term', 'int_rate', 'installment', 'grade', 'sub_grade', 'emp_title', 'emp_length', 'home_ownership', 'annual_inc', 'verification_status', 'loan_status', 'pymnt_plan', 'desc', 'purpose', 'title', 'zip_code', 'addr_state', 'dti', 'delinq_2yrs', 'earliest_cr_line', 'fico_range_low', 'fico_range_high', 'inq_last_6mths', 'mths_since_last_delinq', 'mths_since_last_record', 'open_acc', 'pub_rec', 'revol_bal', 'revol_util', 'total_acc', 'initial_list_status', 'next_pymnt_d', 'last_credit_pull_d', 'last_fico_range_high', 'last_fico_range_low', 'collections_12_mths_ex_med', 'mths_since_last_major_derog', 'policy_code', 'application_type', 'annual_inc_joint', 'dti_joint', 'verification_status_joint', 'acc_now_delinq', 'tot_coll_amt', 'tot_cur_bal', 'open_acc_6m', 'open_act_il', 'open_il_12m', 'open_il_24m', 'mths_since_rcnt_il', 'total_bal_il', 'il_util', 'open_rv_12m', 'open_rv_24m', 'max_bal_bc', 'all_util', 'total_rev_hi_lim', 'inq_fi', 'total_cu_tl', 'inq_last_12m', 'acc_open_past_24mths', 'avg_cur_bal', 'bc_open_to_buy', 'bc_util', 'chargeoff_within_12_mths', 'delinq_amnt', 'mo_sin_old_il_acct', 'mo_sin_old_rev_tl_op', 'mo_sin_rcnt_rev_tl_op', 'mo_sin_rcnt_tl', 'mort_acc', 'mths_since_recent_bc', 'mths_since_recent_bc_dlq', 'mths_since_recent_inq', 'mths_since_recent_revol_delinq', 'num_accts_ever_120_pd', 'num_actv_bc_tl', 'num_actv_rev_tl', 'num_bc_sats', 'num_bc_tl', 'num_il_tl', 'num_op_rev_tl', 'num_rev_accts', 'num_rev_tl_bal_gt_0', 'num_sats', 'num_tl_120dpd_2m', 'num_tl_30dpd', 'num_tl_90g_dpd_24m', 'num_tl_op_past_12m', 'pct_tl_nvr_dlq', 'percent_bc_gt_75', 'pub_rec_bankruptcies', 'tax_liens', 'tot_hi_cred_lim', 'total_bal_ex_mort', 'total_bc_limit', 'total_il_high_credit_limit', 'revol_bal_joint', 'sec_app_fico_range_low', 'sec_app_fico_range_high', 'sec_app_earliest_cr_line', 'sec_app_inq_last_6mths', 'sec_app_mort_acc', 'sec_app_open_acc', 'sec_app_revol_util', 'sec_app_open_act_il', 'sec_app_num_rev_accts', 'sec_app_chargeoff_within_12_mths', 'sec_app_collections_12_mths_ex_med', 'sec_app_mths_since_last_major_derog', 'hardship_flag', 'hardship_type', 'hardship_reason', 'hardship_status', 'deferral_term', 'hardship_amount', 'hardship_start_date', 'hardship_end_date', 'payment_plan_start_date', 'hardship_length', 'hardship_dpd', 'hardship_loan_status', 'orig_projected_additional_accrued_interest', 'hardship_payoff_balance_amount', 'hardship_last_payment_amount', 'debt_settlement_flag_date', 'settlement_status', 'settlement_date', 'settlement_amount', 'settlement_percentage', 'settlement_term']\n"
     ]
    },
    {
     "data": {
      "text/html": [
       "<div>\n",
       "<style scoped>\n",
       "    .dataframe tbody tr th:only-of-type {\n",
       "        vertical-align: middle;\n",
       "    }\n",
       "\n",
       "    .dataframe tbody tr th {\n",
       "        vertical-align: top;\n",
       "    }\n",
       "\n",
       "    .dataframe thead th {\n",
       "        text-align: right;\n",
       "    }\n",
       "</style>\n",
       "<table border=\"1\" class=\"dataframe\">\n",
       "  <thead>\n",
       "    <tr style=\"text-align: right;\">\n",
       "      <th></th>\n",
       "      <th>id</th>\n",
       "      <th>member_id</th>\n",
       "      <th>loan_amnt</th>\n",
       "      <th>term</th>\n",
       "      <th>int_rate</th>\n",
       "      <th>installment</th>\n",
       "      <th>grade</th>\n",
       "      <th>sub_grade</th>\n",
       "      <th>emp_title</th>\n",
       "      <th>emp_length</th>\n",
       "      <th>...</th>\n",
       "      <th>hardship_loan_status</th>\n",
       "      <th>orig_projected_additional_accrued_interest</th>\n",
       "      <th>hardship_payoff_balance_amount</th>\n",
       "      <th>hardship_last_payment_amount</th>\n",
       "      <th>debt_settlement_flag_date</th>\n",
       "      <th>settlement_status</th>\n",
       "      <th>settlement_date</th>\n",
       "      <th>settlement_amount</th>\n",
       "      <th>settlement_percentage</th>\n",
       "      <th>settlement_term</th>\n",
       "    </tr>\n",
       "  </thead>\n",
       "  <tbody>\n",
       "    <tr>\n",
       "      <th>0</th>\n",
       "      <td>263591</td>\n",
       "      <td>545710</td>\n",
       "      <td>20000.0</td>\n",
       "      <td>60 months</td>\n",
       "      <td>17.93</td>\n",
       "      <td>342.94</td>\n",
       "      <td>E</td>\n",
       "      <td>E5</td>\n",
       "      <td>Wylie ISD</td>\n",
       "      <td>1 year</td>\n",
       "      <td>...</td>\n",
       "      <td>NaN</td>\n",
       "      <td>NaN</td>\n",
       "      <td>NaN</td>\n",
       "      <td>NaN</td>\n",
       "      <td>NaT</td>\n",
       "      <td>NaN</td>\n",
       "      <td>NaT</td>\n",
       "      <td>NaN</td>\n",
       "      <td>NaN</td>\n",
       "      <td>NaN</td>\n",
       "    </tr>\n",
       "    <tr>\n",
       "      <th>1</th>\n",
       "      <td>1613916</td>\n",
       "      <td>69664096</td>\n",
       "      <td>30000.0</td>\n",
       "      <td>36 months</td>\n",
       "      <td>11.99</td>\n",
       "      <td>996.29</td>\n",
       "      <td>C</td>\n",
       "      <td>C1</td>\n",
       "      <td>Sergeant</td>\n",
       "      <td>10+ years</td>\n",
       "      <td>...</td>\n",
       "      <td>NaN</td>\n",
       "      <td>NaN</td>\n",
       "      <td>NaN</td>\n",
       "      <td>NaN</td>\n",
       "      <td>NaT</td>\n",
       "      <td>NaN</td>\n",
       "      <td>NaT</td>\n",
       "      <td>NaN</td>\n",
       "      <td>NaN</td>\n",
       "      <td>NaN</td>\n",
       "    </tr>\n",
       "  </tbody>\n",
       "</table>\n",
       "<p>2 rows × 134 columns</p>\n",
       "</div>"
      ],
      "text/plain": [
       "        id member_id  loan_amnt        term  int_rate  installment grade  \\\n",
       "0   263591    545710    20000.0   60 months     17.93       342.94     E   \n",
       "1  1613916  69664096    30000.0   36 months     11.99       996.29     C   \n",
       "\n",
       "  sub_grade  emp_title emp_length  ... hardship_loan_status  \\\n",
       "0        E5  Wylie ISD     1 year  ...                  NaN   \n",
       "1        C1   Sergeant  10+ years  ...                  NaN   \n",
       "\n",
       "   orig_projected_additional_accrued_interest hardship_payoff_balance_amount  \\\n",
       "0                                         NaN                            NaN   \n",
       "1                                         NaN                            NaN   \n",
       "\n",
       "  hardship_last_payment_amount debt_settlement_flag_date settlement_status  \\\n",
       "0                          NaN                       NaT               NaN   \n",
       "1                          NaN                       NaT               NaN   \n",
       "\n",
       "  settlement_date settlement_amount settlement_percentage settlement_term  \n",
       "0             NaT               NaN                   NaN             NaN  \n",
       "1             NaT               NaN                   NaN             NaN  \n",
       "\n",
       "[2 rows x 134 columns]"
      ]
     },
     "execution_count": 56,
     "metadata": {},
     "output_type": "execute_result"
    }
   ],
   "source": [
    "# train = pd.read_excel('lendingclub_traindata.xlsx')\n",
    "# validation=pd.read_excel('lendingclub_valdata.xlsx')\n",
    "# test = pd.read_excel('lendingclub_testdata.xlsx')\n",
    "\n",
    "df = pd.read_excel(\"lending_clubFull_Data_Set.xlsx\")\n",
    "df = df.iloc[:, 1:] # Remove index column\n",
    "print(df.columns.tolist())\n",
    "\n",
    "df.head(2)"
   ]
  },
  {
   "attachments": {},
   "cell_type": "markdown",
   "metadata": {},
   "source": [
    "## Quick Fixes\n",
    "- Nan vales set to 0\n",
    "- Sample of DF to reduce computational load"
   ]
  },
  {
   "cell_type": "code",
   "execution_count": 57,
   "metadata": {},
   "outputs": [],
   "source": [
    "#\n",
    "df = df.replace(np.nan, 0)\n",
    "# DF is too large for my computer\n",
    "df = df.sample(frac= .5, random_state=100)"
   ]
  },
  {
   "attachments": {},
   "cell_type": "markdown",
   "metadata": {},
   "source": [
    "## Data Pre-processing"
   ]
  },
  {
   "cell_type": "code",
   "execution_count": 58,
   "metadata": {},
   "outputs": [
    {
     "name": "stdout",
     "output_type": "stream",
     "text": [
      "The categorical features are: ['member_id', 'term', 'grade', 'sub_grade', 'emp_title', 'emp_length', 'home_ownership', 'verification_status', 'loan_status', 'pymnt_plan', 'desc', 'purpose', 'title', 'zip_code', 'addr_state', 'earliest_cr_line', 'initial_list_status', 'next_pymnt_d', 'last_credit_pull_d', 'application_type', 'verification_status_joint', 'sec_app_earliest_cr_line', 'hardship_flag', 'hardship_type', 'hardship_reason', 'hardship_status', 'hardship_start_date', 'hardship_end_date', 'payment_plan_start_date', 'hardship_loan_status', 'debt_settlement_flag_date', 'settlement_status', 'settlement_date']\n"
     ]
    }
   ],
   "source": [
    "# Verify categorical values\n",
    "def get_cat_fields(df):\n",
    "    return df.select_dtypes(exclude = ['int64', 'float64']).columns.tolist()\n",
    "\n",
    "\n",
    "print('The categorical features are: ' + str(get_cat_fields(df)))"
   ]
  },
  {
   "cell_type": "code",
   "execution_count": 59,
   "metadata": {},
   "outputs": [
    {
     "name": "stdout",
     "output_type": "stream",
     "text": [
      "There are 5 date columns\n"
     ]
    }
   ],
   "source": [
    "# In hindsight, dates cause issues, we can do some binning in the future but for now we just remove.\n",
    "current_cols, final_cols = df.columns.tolist(), []\n",
    "\n",
    "for i in current_cols:\n",
    "    if \"date\" not in i and df[i].dtype != '<M8[ns]':\n",
    "        final_cols.append(i)\n",
    "print(\"There are \" + str(len(current_cols) - len(final_cols)) + \" date columns\")\n",
    "\n",
    "\n",
    "df = df[final_cols]"
   ]
  },
  {
   "cell_type": "code",
   "execution_count": 60,
   "metadata": {},
   "outputs": [
    {
     "data": {
      "text/plain": [
       "(12500, 129)"
      ]
     },
     "execution_count": 60,
     "metadata": {},
     "output_type": "execute_result"
    }
   ],
   "source": [
    "df.shape # Double check that date cols removed"
   ]
  },
  {
   "cell_type": "code",
   "execution_count": 61,
   "metadata": {},
   "outputs": [
    {
     "data": {
      "text/plain": [
       "Current                                                5987\n",
       "Fully Paid                                             4883\n",
       "Charged Off                                            1301\n",
       "Late (31-120 days)                                      173\n",
       "In Grace Period                                          85\n",
       "Late (16-30 days)                                        53\n",
       "Does not meet the credit policy. Status:Fully Paid       15\n",
       "Does not meet the credit policy. Status:Charged Off       3\n",
       "Name: loan_status, dtype: int64"
      ]
     },
     "execution_count": 61,
     "metadata": {},
     "output_type": "execute_result"
    }
   ],
   "source": [
    "df[\"loan_status\"].value_counts()"
   ]
  },
  {
   "cell_type": "code",
   "execution_count": 62,
   "metadata": {},
   "outputs": [
    {
     "name": "stdout",
     "output_type": "stream",
     "text": [
      "(10000, 23456)\n",
      "(10000,)\n",
      "(1250, 23456)\n",
      "(1250,)\n",
      "(1250, 23456)\n",
      "(1250,)\n"
     ]
    },
    {
     "data": {
      "text/plain": [
       "(None, None)"
      ]
     },
     "execution_count": 62,
     "metadata": {},
     "output_type": "execute_result"
    }
   ],
   "source": [
    "df[\"loan_status\"] = df[\"loan_status\"].apply(lambda x: 1 if (x == 'Fully Paid') or (x == 'Current') else 0)\n",
    "\n",
    "# Let's say we want to split the data in 80:10:10 for train:valid:test dataset\n",
    "train_size=0.8\n",
    "\n",
    "X = df.drop(columns = ['loan_status']).copy()\n",
    "X = pd.get_dummies(df, drop_first=True)\n",
    "y = df['loan_status']\n",
    "\n",
    "# In the first step we will split the data in training and remaining dataset\n",
    "X_train, X_rem, y_train, y_rem = train_test_split(X,y, train_size=0.8)\n",
    "\n",
    "# Now since we want the valid and test size to be equal (10% each of overall data). \n",
    "# we have to define valid_size=0.5 (that is 50% of remaining data)\n",
    "test_size = 0.5\n",
    "X_valid, X_test, y_valid, y_test = train_test_split(X_rem,y_rem, test_size=0.5)\n",
    "\n",
    "print(X_train.shape), print(y_train.shape)\n",
    "print(X_valid.shape), print(y_valid.shape)\n",
    "print(X_test.shape), print(y_test.shape)"
   ]
  },
  {
   "cell_type": "code",
   "execution_count": 63,
   "metadata": {},
   "outputs": [
    {
     "data": {
      "text/plain": [
       "(10000, 23456)"
      ]
     },
     "execution_count": 63,
     "metadata": {},
     "output_type": "execute_result"
    }
   ],
   "source": [
    "X_train.shape"
   ]
  },
  {
   "cell_type": "code",
   "execution_count": 64,
   "metadata": {},
   "outputs": [
    {
     "data": {
      "text/plain": [
       "13495    1\n",
       "8600     0\n",
       "Name: loan_status, dtype: int64"
      ]
     },
     "execution_count": 64,
     "metadata": {},
     "output_type": "execute_result"
    }
   ],
   "source": [
    "y_test.head(2)"
   ]
  },
  {
   "cell_type": "code",
   "execution_count": 65,
   "metadata": {},
   "outputs": [],
   "source": [
    "# Scale data using the mean and standard deviation of the training set. \n",
    "# This is not necessary for the simple logistic regression we will do here \n",
    "# but should be done if L1 or L2 regrularization is carried out\n",
    "# X_test=(X_test-X_train.mean())/X_train.std()\n",
    "# X_valild=(X_valid-X_train.mean())/X_train.std()\n",
    "# X_train=(X_train-X_train.mean())/X_train.std()"
   ]
  },
  {
   "cell_type": "code",
   "execution_count": 66,
   "metadata": {},
   "outputs": [
    {
     "data": {
      "text/plain": [
       "1    87.0\n",
       "0    13.0\n",
       "Name: loan_status, dtype: float64"
      ]
     },
     "execution_count": 66,
     "metadata": {},
     "output_type": "execute_result"
    }
   ],
   "source": [
    "freq = y_train.value_counts()           # count frequency of different classes in training swet\n",
    "freq/sum(freq)*100                      # get percentage of above"
   ]
  },
  {
   "cell_type": "code",
   "execution_count": 67,
   "metadata": {},
   "outputs": [],
   "source": [
    "all = [X_train, y_train, X_valid, y_valid, X_test, y_test]\n",
    "for dataset in all:\n",
    "    dataset.replace(np.nan, 0)"
   ]
  },
  {
   "cell_type": "code",
   "execution_count": 68,
   "metadata": {},
   "outputs": [
    {
     "name": "stdout",
     "output_type": "stream",
     "text": [
      "[-0.00583195] [[ 1.36580428e-07 -3.37142977e-05 -7.65178729e-03 ... -1.38654687e-06\n",
      "  -1.76298955e-07 -5.09881629e-05]]\n"
     ]
    }
   ],
   "source": [
    "#Create an ionstance of logisticregression named lgstc_reg \n",
    "\n",
    "lgstc_reg =  LogisticRegression(penalty=\"none\",solver=\"newton-cg\")     \n",
    "\n",
    "# Fit logististic regression to training set\n",
    "\n",
    "lgstc_reg.fit(X_train, y_train)                                        # fit training data on logistic regression \n",
    "\n",
    "\n",
    "print(lgstc_reg.intercept_, lgstc_reg.coef_)                           # get the coefficients of each features"
   ]
  },
  {
   "cell_type": "markdown",
   "metadata": {},
   "source": [
    "When used on scaled data the model has a bias of 1.416 and coefficients of 0.145, 0.034, -0.324 and 0.363. We now test the model on the validation set."
   ]
  },
  {
   "cell_type": "code",
   "execution_count": 69,
   "metadata": {},
   "outputs": [
    {
     "name": "stdout",
     "output_type": "stream",
     "text": [
      "cost function training set = 0.15995904976237488\n",
      "cost function validation set = 0.16670452996224852\n",
      "cost function test set = 0.16388810746272725\n"
     ]
    }
   ],
   "source": [
    "# y_train_pred, y_val_pred, and y_test_pred are the predicted probabilities for the training set\n",
    "# validation set and test set using the fitted logistic regression model\n",
    "\n",
    "y_train_pred=lgstc_reg.predict_proba(X_train)\n",
    "y_val_pred=lgstc_reg.predict_proba(X_valid)\n",
    "y_test_pred=lgstc_reg.predict_proba(X_test)\n",
    "\n",
    "# Calculate maximum likelihood for training set, validation set, and test set\n",
    "\n",
    "mle_vector_train = np.log(np.where(y_train == 1, y_train_pred[:,1], y_train_pred[:,0]))\n",
    "mle_vector_val = np.log(np.where(y_valid == 1, y_val_pred[:,1], y_val_pred[:,0]))\n",
    "mle_vector_test = np.log(np.where(y_test == 1, y_test_pred[:,1], y_test_pred[:,0]))\n",
    "\n",
    "# Calculate cost functions from maximum likelihoods\n",
    "\n",
    "cost_function_training=np.negative(np.sum(mle_vector_train)/len(y_train))\n",
    "cost_function_val=np.negative(np.sum(mle_vector_val)/len(y_valid))\n",
    "cost_function_test=np.negative(np.sum(mle_vector_test)/len(y_test))\n",
    "\n",
    "print('cost function training set =', cost_function_training)\n",
    "print('cost function validation set =', cost_function_val)\n",
    "print('cost function test set =', cost_function_test)\n",
    "\n"
   ]
  },
  {
   "cell_type": "markdown",
   "metadata": {},
   "source": [
    "<br> \n",
    "An analyst must decide on a criterion for predicting whether loan will be good or default. This involves specifying a threshold By default this threshold is set to 0.5, i.e., loans are separated into good and bad categories according to whether the probability of no default is greater or less than 0.5. However this does not work well for an imbalanced data set such as this. It would predict that all loans are good! We will look at the results for few other thresholds. \n",
    "\n"
   ]
  },
  {
   "cell_type": "code",
   "execution_count": 70,
   "metadata": {},
   "outputs": [
    {
     "name": "stdout",
     "output_type": "stream",
     "text": [
      "Confusion matrix for threshold = 0.75\n",
      "[[82.56  3.52]\n",
      " [ 2.8  11.12]]\n",
      " \n",
      "Confusion matrix for threshold = 0.8\n",
      "[[81.68  4.4 ]\n",
      " [ 2.32 11.6 ]]\n",
      " \n",
      "Confusion matrix for threshold = 0.85\n",
      "[[79.84  6.24]\n",
      " [ 1.6  12.32]]\n",
      " \n",
      "ALL METRICS\n",
      "                       0         1         2\n",
      "THRESHOLD           0.75       0.8      0.85\n",
      "accuracy          0.9368    0.9328    0.9216\n",
      "true pos rate   0.959108  0.948885  0.927509\n",
      "true neg rate   0.798851  0.833333  0.885057\n",
      "false pos rate  0.201149  0.166667  0.114943\n",
      "precision       0.967198  0.972381  0.980354\n",
      "f-score         0.963136  0.960489    0.9532\n"
     ]
    }
   ],
   "source": [
    "THRESHOLD = [.75, .80, .85]\n",
    "# Create dataframe to store resultd\n",
    "results = pd.DataFrame(columns=[\"THRESHOLD\", \"accuracy\", \"true pos rate\", \"true neg rate\", \"false pos rate\", \"precision\", \"f-score\"]) # df to store results\n",
    "\n",
    "# Create threshold row\n",
    "results['THRESHOLD'] = THRESHOLD                                                                         \n",
    "             \n",
    "j = 0                                                                                                      \n",
    "\n",
    "# Iterate over the 3 thresholds\n",
    "\n",
    "for i in THRESHOLD:                                                                                       \n",
    "    \n",
    "    \n",
    "    #lgstc_reg.fit(X_train, y_train)                                                                    \n",
    "    \n",
    "    \n",
    "    # If prob for test set > threshold predict 1\n",
    "    preds = np.where(lgstc_reg.predict_proba(X_test)[:,1] > i, 1, 0)                                      \n",
    "    \n",
    "    \n",
    "    # create confusion matrix \n",
    "    cm = (confusion_matrix(y_test, preds,labels=[1, 0], sample_weight=None) / len(y_test))*100                   # confusion matrix (in percentage)\n",
    "    \n",
    "    print('Confusion matrix for threshold =',i)\n",
    "    print(cm)\n",
    "    print(' ')      \n",
    "    \n",
    "    TP = cm[0][0]                                                                                          # True Positives\n",
    "    FN = cm[0][1]                                                                                          # False Positives\n",
    "    FP = cm[1][0]                                                                                          # True Negatives\n",
    "    TN = cm[1][1]                                                                                          # False Negatives\n",
    "        \n",
    "    results.iloc[j,1] = accuracy_score(y_test, preds) \n",
    "    results.iloc[j,2] = recall_score(y_test, preds)\n",
    "    results.iloc[j,3] = TN/(FP+TN)                                                                         # True negative rate\n",
    "    results.iloc[j,4] = FP/(FP+TN)                                                                         # False positive rate\n",
    "    results.iloc[j,5] = precision_score(y_test, preds)\n",
    "    results.iloc[j,6] = f1_score(y_test, preds)\n",
    "   \n",
    "   \n",
    "    j += 1\n",
    "\n",
    "print('ALL METRICS')\n",
    "print( results.T)\n",
    "\n",
    "    \n",
    "    \n",
    "   "
   ]
  },
  {
   "cell_type": "markdown",
   "metadata": {},
   "source": [
    "<br>\n",
    "This table shows that there is a trade off betwee the true positive rate and the false positive rate.  \n",
    "We can improve the percentage of good loans we identify only by increasing the percentage of bad that are misclassified.\n",
    "The receiver operating curve (ROC) captures this trade off by considering different thresholds."
   ]
  },
  {
   "cell_type": "code",
   "execution_count": 71,
   "metadata": {},
   "outputs": [
    {
     "name": "stdout",
     "output_type": "stream",
     "text": [
      "AUC random predictions = 0.5\n",
      "AUC predictions from logistic regression model = 0.9625208306627356\n"
     ]
    },
    {
     "data": {
      "image/png": "[encoded data removed]",
      "text/plain": [
       "<Figure size 432x288 with 1 Axes>"
      ]
     },
     "metadata": {
      "needs_background": "light"
     },
     "output_type": "display_data"
    }
   ],
   "source": [
    "\n",
    "# Calculate the receiver operating curve and the AUC measure\n",
    "\n",
    "lr_prob=lgstc_reg.predict_proba(X_test)\n",
    "lr_prob=lr_prob[:, 1]\n",
    "ns_prob=[0 for _ in range(len(y_test))]\n",
    "ns_auc=roc_auc_score(y_test, ns_prob)\n",
    "lr_auc=roc_auc_score(y_test,lr_prob)\n",
    "print(\"AUC random predictions =\", ns_auc)\n",
    "print(\"AUC predictions from logistic regression model =\", lr_auc)\n",
    "ns_fpr,ns_tpr,_=roc_curve(y_test,ns_prob)\n",
    "lr_fpr,lr_tpr,_=roc_curve(y_test,lr_prob)\n",
    "\n",
    "plt.plot(ns_fpr,ns_tpr,linestyle='--',label='Random Predction')\n",
    "plt.plot(lr_fpr,lr_tpr,marker='.',label='Logistic Regression')\n",
    "\n",
    "plt.xlabel('False Positive Rate')\n",
    "plt.ylabel('True Positive Rate')\n",
    "plt.legend()\n",
    "plt.show()"
   ]
  },
  {
   "attachments": {},
   "cell_type": "markdown",
   "metadata": {},
   "source": [
    "## Neural network setup"
   ]
  },
  {
   "cell_type": "code",
   "execution_count": 73,
   "metadata": {},
   "outputs": [
    {
     "data": {
      "text/plain": [
       "(10000, 23456)"
      ]
     },
     "execution_count": 73,
     "metadata": {},
     "output_type": "execute_result"
    }
   ],
   "source": [
    "X_train.shape"
   ]
  },
  {
   "cell_type": "code",
   "execution_count": 80,
   "metadata": {},
   "outputs": [],
   "source": [
    "# Scale features based on Z-Score\n",
    "scaler = StandardScaler()\n",
    "scaler.fit(X_train)\n",
    "\n",
    "\n",
    "X_scaled_train = scaler.transform(X_train)\n",
    "X_scaled_vals = scaler.transform(X_valid)\n",
    "X_scaled_test = scaler.transform(X_test)\n",
    "y_train = np.asarray(y_train)\n",
    "y_val = np.asarray(y_valid)\n",
    "y_test = np.asarray(y_test)"
   ]
  },
  {
   "cell_type": "code",
   "execution_count": 87,
   "metadata": {},
   "outputs": [
    {
     "data": {
      "text/plain": [
       "array([[ 1.17275848, -0.30138524,  0.0969726 , ..., -0.06944891,\n",
       "        -0.02646678, -0.0548546 ],\n",
       "       [-1.21467054, -0.30138524, -1.4029623 , ..., 14.39907404,\n",
       "        -0.02646678, -0.0548546 ],\n",
       "       [ 0.07228798, -0.71374941,  0.42674552, ..., -0.06944891,\n",
       "        -0.02646678, -0.0548546 ],\n",
       "       ...,\n",
       "       [-1.18353311, -0.87411326, -1.00510723, ..., -0.06944891,\n",
       "        -0.02646678, -0.0548546 ],\n",
       "       [ 0.4038174 , -0.07229403, -0.38811273, ..., -0.06944891,\n",
       "        -0.02646678, -0.0548546 ],\n",
       "       [ 0.77979563,  2.33316367,  2.47559277, ..., -0.06944891,\n",
       "        -0.02646678, -0.0548546 ]])"
      ]
     },
     "execution_count": 87,
     "metadata": {},
     "output_type": "execute_result"
    }
   ],
   "source": [
    "X_scaled_test"
   ]
  },
  {
   "cell_type": "code",
   "execution_count": 88,
   "metadata": {},
   "outputs": [
    {
     "ename": "TypeError",
     "evalue": "list.append() takes no keyword arguments",
     "output_type": "error",
     "traceback": [
      "\u001b[1;31m---------------------------------------------------------------------------\u001b[0m",
      "\u001b[1;31mTypeError\u001b[0m                                 Traceback (most recent call last)",
      "\u001b[1;32m~\\AppData\\Local\\Temp/ipykernel_18132/4055940144.py\u001b[0m in \u001b[0;36m<module>\u001b[1;34m\u001b[0m\n\u001b[0;32m     43\u001b[0m \u001b[0mhistory_\u001b[0m \u001b[1;33m=\u001b[0m \u001b[1;33m[\u001b[0m\u001b[1;33m]\u001b[0m\u001b[1;33m\u001b[0m\u001b[1;33m\u001b[0m\u001b[0m\n\u001b[0;32m     44\u001b[0m \u001b[1;32mfor\u001b[0m \u001b[0mind\u001b[0m\u001b[1;33m,\u001b[0m \u001b[0mmdl\u001b[0m \u001b[1;32min\u001b[0m \u001b[0menumerate\u001b[0m\u001b[1;33m(\u001b[0m\u001b[0mmodels\u001b[0m\u001b[1;33m,\u001b[0m \u001b[1;36m0\u001b[0m\u001b[1;33m)\u001b[0m\u001b[1;33m:\u001b[0m\u001b[1;33m\u001b[0m\u001b[1;33m\u001b[0m\u001b[0m\n\u001b[1;32m---> 45\u001b[1;33m     history_.append(mdl.fit(X_scaled_train,y_train,epochs= 100,verbose = 0, validation_data=(X_scaled_vals,y_val)),\n\u001b[0m\u001b[0;32m     46\u001b[0m                 callbacks=[checkpoints[ind],early_stops[ind]])\n",
      "\u001b[1;31mTypeError\u001b[0m: list.append() takes no keyword arguments"
     ]
    }
   ],
   "source": [
    "# Base model\n",
    "model = keras.models.Sequential([Dense(20,activation = \"sigmoid\",input_shape = (23456,)),\n",
    "                                 Dense(20,activation = \"sigmoid\"),Dense(20,activation = \"sigmoid\"),\n",
    "                                Dense(1)])\n",
    "\n",
    "# Changing the number of hidden layers\n",
    "two_layers = keras.models.Sequential([Dense(20,activation = \"sigmoid\",input_shape = (23456,)),\n",
    "                                 Dense(20,activation = \"sigmoid\"),Dense(20,activation = \"sigmoid\"),\n",
    "                                 Dense(20,activation = \"sigmoid\"),Dense(20,activation = \"sigmoid\"),\n",
    "                                Dense(1)])\n",
    "\n",
    "three_layers = keras.models.Sequential([Dense(20,activation = \"sigmoid\",input_shape = (23456,)),\n",
    "                                 Dense(20,activation = \"sigmoid\"),Dense(20,activation = \"sigmoid\"),\n",
    "                                 Dense(20,activation = \"sigmoid\"),Dense(20,activation = \"sigmoid\"),\n",
    "                                 Dense(20,activation = \"sigmoid\"),Dense(20,activation = \"sigmoid\"),\n",
    "                                Dense(1)])\n",
    "\n",
    "# Changing the number of neurons\n",
    "fewer_neurons = keras.models.Sequential([Dense(10,activation = \"sigmoid\",input_shape = (23456,)),\n",
    "                                 Dense(10,activation = \"sigmoid\"),Dense(10,activation = \"sigmoid\"),\n",
    "                                Dense(1)])\n",
    "\n",
    "more_neurons = keras.models.Sequential([Dense(10,activation = \"sigmoid\",input_shape = (23456,)),\n",
    "                                 Dense(10,activation = \"sigmoid\"),Dense(10,activation = \"sigmoid\"),\n",
    "                                Dense(1)])\n",
    "\n",
    "# List for all the models\n",
    "# models = [model]\n",
    "models = [model, two_layers, three_layers, fewer_neurons, more_neurons]\n",
    "\n",
    "\n",
    "# Complie function allows you to choose your measure of loss and optimzer\n",
    "for mdl in models:\n",
    "    mdl.compile(loss = \"mae\",optimizer = \"Adam\")\n",
    "\n",
    "# Create checkpoints and early stop files for each model\n",
    "checkpoints, early_stops = [], []\n",
    "for n, mdl in enumerate(models, 1):\n",
    "    checkpoints.append(keras.callbacks.ModelCheckpoint(\"Model \" + str(n) + \".h5\",save_best_only = True))\n",
    "    early_stops.append(keras.callbacks.EarlyStopping(patience = 5000,restore_best_weights = True))\n",
    "    \n",
    "# Training with callback\n",
    "history_ = []\n",
    "for ind, mdl in enumerate(models, 0): \n",
    "    history_.append(mdl.fit(X_scaled_train,y_train,epochs= 100,verbose = 0, validation_data=(X_scaled_vals,y_val)),\n",
    "                callbacks=[checkpoints[ind],early_stops[ind]])"
   ]
  },
  {
   "attachments": {},
   "cell_type": "markdown",
   "metadata": {},
   "source": [
    "## Last update here ==================================================\n",
    "\n",
    "To do:\n",
    "- complete nn"
   ]
  }
 ],
 "metadata": {
  "kernelspec": {
   "display_name": "Python 3",
   "language": "python",
   "name": "python3"
  },
  "language_info": {
   "codemirror_mode": {
    "name": "ipython",
    "version": 3
   },
   "file_extension": ".py",
   "mimetype": "text/x-python",
   "name": "python",
   "nbconvert_exporter": "python",
   "pygments_lexer": "ipython3",
   "version": "3.10.7"
  },
  "vscode": {
   "interpreter": {
    "hash": "b7da478affe01d998ba032614fda288b4c91404150a78dc872243ca143d7bb35"
   }
  }
 },
 "nbformat": 4,
 "nbformat_minor": 2
}
